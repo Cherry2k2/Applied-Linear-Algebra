{
 "cells": [
  {
   "cell_type": "code",
   "execution_count": 10,
   "id": "4b645694",
   "metadata": {},
   "outputs": [],
   "source": [
    "# importing numpy library\n",
    "import numpy as np\n",
    "from numpy import linalg as la"
   ]
  },
  {
   "cell_type": "code",
   "execution_count": 2,
   "id": "5a1b9f8d",
   "metadata": {},
   "outputs": [
    {
     "name": "stdout",
     "output_type": "stream",
     "text": [
      "Original square array:\n",
      " [[1 2]\n",
      " [2 3]]\n",
      "Eigen values of the given square array:\n",
      " [-0.23606798  4.23606798]\n",
      "Eigenvectors of the given square array:\n",
      " [[-0.85065081 -0.52573111]\n",
      " [ 0.52573111 -0.85065081]]\n"
     ]
    }
   ],
   "source": [
    "# create numpy 2d-array\n",
    "m = np.array([[1, 2],[2, 3]])\n",
    "\n",
    "print(\"Original square array:\\n\",m)\n",
    "\n",
    "# finding eigenvalues and eigenvectors\n",
    "w, v = np.linalg.eig(m)\n",
    "\n",
    "# printing eigen values\n",
    "print(\"Eigen values of the given square array:\\n\",w)\n",
    "\n",
    "# printing eigen vectors\n",
    "print(\"Eigenvectors of the given square array:\\n\",v)\n"
   ]
  },
  {
   "cell_type": "code",
   "execution_count": 3,
   "id": "935786a4",
   "metadata": {},
   "outputs": [
    {
     "name": "stdout",
     "output_type": "stream",
     "text": [
      "Original square array:\n",
      " [[1 2 3]\n",
      " [2 3 4]\n",
      " [4 5 6]]\n",
      "Eigen values of the given square array:\n",
      " [ 1.08309519e+01 -8.30951895e-01 -3.58709921e-16]\n",
      "Eigenvectors of the given square array:\n",
      " [[ 0.34416959  0.72770285  0.40824829]\n",
      " [ 0.49532111  0.27580256 -0.81649658]\n",
      " [ 0.79762415 -0.62799801  0.40824829]]\n"
     ]
    }
   ],
   "source": [
    "# create numpy 2d-array\n",
    "m = np.array([[1, 2, 3],[2, 3, 4],[4, 5, 6]])\n",
    "\n",
    "print(\"Original square array:\\n\",m)\n",
    "\n",
    "# finding eigenvalues and eigenvectors\n",
    "w, v = np.linalg.eig(m)\n",
    "\n",
    "# printing eigen values\n",
    "print(\"Eigen values of the given square array:\\n\",w)\n",
    "\n",
    "# printing eigen vectors\n",
    "print(\"Eigenvectors of the given square array:\\n\",v)\n"
   ]
  },
  {
   "cell_type": "code",
   "execution_count": 4,
   "id": "aa44e5c6",
   "metadata": {},
   "outputs": [
    {
     "name": "stdout",
     "output_type": "stream",
     "text": [
      "Enter the size of the square matrix (n x n): 2\n",
      "Enter the matrix elements row by row:\n",
      "Enter values for row 1 separated by spaces: 1 2\n",
      "Enter values for row 2 separated by spaces: 1 2\n",
      "\n",
      "Eigenvalues:\n",
      "[0. 3.]\n",
      "\n",
      "Eigenvectors:\n",
      "[[-0.89442719 -0.70710678]\n",
      " [ 0.4472136  -0.70710678]]\n"
     ]
    }
   ],
   "source": [
    "import numpy as np\n",
    "\n",
    "# Prompt the user to enter the matrix dimensions (n x n)\n",
    "n = int(input(\"Enter the size of the square matrix (n x n): \"))\n",
    "\n",
    "# Prompt the user to enter the matrix elements\n",
    "print(\"Enter the matrix elements row by row:\")\n",
    "\n",
    "# Initialize an empty matrix\n",
    "A = np.empty((n, n))\n",
    "\n",
    "# Loop to input the matrix elements\n",
    "for i in range(n):\n",
    "    row = input(f\"Enter values for row {i + 1} separated by spaces: \").split()\n",
    "    A[i] = [float(x) for x in row]\n",
    "\n",
    "# Compute eigenvalues and eigenvectors\n",
    "eigenvalues, eigenvectors = np.linalg.eig(A)\n",
    "\n",
    "# Print the results\n",
    "print(\"\\nEigenvalues:\")\n",
    "print(eigenvalues)\n",
    "\n",
    "print(\"\\nEigenvectors:\")\n",
    "print(eigenvectors)"
   ]
  },
  {
   "cell_type": "code",
   "execution_count": 5,
   "id": "1057a29e",
   "metadata": {},
   "outputs": [
    {
     "name": "stdout",
     "output_type": "stream",
     "text": [
      "Original array:\n",
      "[[0. 0. 0.]\n",
      " [2. 0. 0.]\n",
      " [4. 0. 2.]\n",
      " [3. 2. 0.]]\n",
      "\n",
      "Factor of the given array by Singular Value Decomposition:\n",
      "\n",
      "U= [[ 4.6119910e-18  2.9790410e-17  1.0685136e-16]\n",
      " [-3.3100694e-01 -1.3877788e-16  9.4362831e-01]\n",
      " [-7.5490266e-01 -6.0000002e-01 -2.6480556e-01]\n",
      " [-5.6617701e-01  8.0000001e-01 -1.9860417e-01]] \n",
      "\n",
      "s= [5.701562  2.        0.7015621] \n",
      "\n",
      "V= [[-0.9436283  -0.19860417 -0.26480556]\n",
      " [-0.          0.8        -0.6       ]\n",
      " [ 0.33100694 -0.566177   -0.75490266]]\n"
     ]
    }
   ],
   "source": [
    "# Create a numpy array\n",
    "arr = np.array([[0, 0, 0], [2, 0, 0],[4, 0, 2], [3, 2, 0]],dtype=np.float32)\n",
    "\n",
    "print(\"Original array:\")\n",
    "print(arr)\n",
    "\n",
    "# Compute the factor by Singular Value\n",
    "# Decomposition\n",
    "U, s, V = np.linalg.svd(arr, full_matrices=False)\n",
    "\n",
    "# Print the result\n",
    "print(\"\\nFactor of the given array by Singular Value Decomposition:\")\n",
    "print(\"\\nU=\", U, \"\\n\\ns=\", s, \"\\n\\nV=\", V)"
   ]
  },
  {
   "cell_type": "code",
   "execution_count": 6,
   "id": "8c1dbd67",
   "metadata": {},
   "outputs": [
    {
     "name": "stdout",
     "output_type": "stream",
     "text": [
      "Enter the number of rows (m): 3\n",
      "Enter the number of columns (n): 3\n",
      "Enter the matrix elements row by row separated by spaces:\n",
      "Enter values for row 1 separated by spaces: 1 2 3\n",
      "Enter values for row 2 separated by spaces: 1 2 3\n",
      "Enter values for row 3 separated by spaces: 1 2 3\n",
      "\n",
      "Left Singular Vectors (U):\n",
      "[[-0.57735027 -0.57735027 -0.57735027]\n",
      " [-0.57735027 -0.21132487  0.78867513]\n",
      " [-0.57735027  0.78867513 -0.21132487]]\n",
      "\n",
      "Singular Values (S):\n",
      "[6.4807407 0.        0.       ]\n",
      "\n",
      "Right Singular Vectors (VT):\n",
      "[[-0.26726124 -0.53452248 -0.80178373]\n",
      " [ 0.         -0.83205029  0.5547002 ]\n",
      " [ 0.96362411 -0.14824986 -0.22237479]]\n"
     ]
    }
   ],
   "source": [
    "# Prompt the user to enter the matrix dimensions (m x n)\n",
    "m = int(input(\"Enter the number of rows (m): \"))\n",
    "n = int(input(\"Enter the number of columns (n): \"))\n",
    "\n",
    "# Prompt the user to enter the matrix elements\n",
    "print(\"Enter the matrix elements row by row separated by spaces:\")\n",
    "matrix_entries = []\n",
    "\n",
    "# Loop to input the matrix elements\n",
    "for i in range(m):\n",
    "    row = input(f\"Enter values for row {i + 1} separated by spaces: \").split()\n",
    "    matrix_entries.append([float(x) for x in row])\n",
    "\n",
    "# Create the matrix from user input\n",
    "A = np.array(matrix_entries)\n",
    "\n",
    "# Compute the SVD\n",
    "U, S, VT = np.linalg.svd(A, full_matrices=False)\n",
    "\n",
    "# Print the results\n",
    "print(\"\\nLeft Singular Vectors (U):\")\n",
    "print(U)\n",
    "\n",
    "print(\"\\nSingular Values (S):\")\n",
    "print(S)\n",
    "\n",
    "print(\"\\nRight Singular Vectors (VT):\")\n",
    "print(VT)"
   ]
  },
  {
   "cell_type": "code",
   "execution_count": 8,
   "id": "5a25bc35",
   "metadata": {},
   "outputs": [
    {
     "name": "stdout",
     "output_type": "stream",
     "text": [
      "Enter the size of the matrix:2\n",
      "Enter the 0 row elements:1 2\n",
      "Enter the 1 row elements:1 2\n",
      "[[1, 2], [1, 2]]\n",
      "Eigen Values of the given matrix is:\n",
      " [0. 3.]\n",
      "Eigen Vectorsof the given matrix is:\n",
      " [[-0.89442719 -0.70710678]\n",
      " [ 0.4472136  -0.70710678]]\n",
      "\n",
      "Factors of the given array by SVD :\n",
      "\n",
      "U =  [[-0.70710678 -0.70710678]\n",
      " [-0.70710678  0.70710678]] \n",
      "s =  [3.16227766 0.        ] \n",
      "V =  [[-0.4472136  -0.89442719]\n",
      " [-0.89442719  0.4472136 ]]\n"
     ]
    }
   ],
   "source": [
    "matrix = []\n",
    "x = int(input('Enter the size of the matrix:'))\n",
    "for i in range(x):\n",
    "    m = list(map(int,input(f\"Enter the {i} row elements:\").split()))\n",
    "    if len(m) != x:\n",
    "        print('Error')\n",
    "    matrix.append(m)\n",
    "print(matrix)\n",
    "evalues, evectors = np.linalg.eig(matrix)\n",
    "print(\"Eigen Values of the given matrix is:\\n\",evalues)\n",
    "print(\"Eigen Vectorsof the given matrix is:\\n\",evectors)\n",
    "print()\n",
    "U,s,V = np.linalg.svd(matrix,full_matrices=False)\n",
    "print(\"Factors of the given array by SVD :\")\n",
    "print(\"\\nU = \",U,\"\\ns = \",s,\"\\nV = \",V)"
   ]
  },
  {
   "cell_type": "code",
   "execution_count": 11,
   "id": "58c212bb",
   "metadata": {},
   "outputs": [
    {
     "data": {
      "text/plain": [
       "(array([[-0.70710678, -0.70710678],\n",
       "        [-0.70710678,  0.70710678]]),\n",
       " array([3.16227766, 0.        ]),\n",
       " array([[-0.4472136 , -0.89442719],\n",
       "        [-0.89442719,  0.4472136 ]]))"
      ]
     },
     "execution_count": 11,
     "metadata": {},
     "output_type": "execute_result"
    }
   ],
   "source": [
    "la.svd(matrix)"
   ]
  }
 ],
 "metadata": {
  "kernelspec": {
   "display_name": "Python 3 (ipykernel)",
   "language": "python",
   "name": "python3"
  },
  "language_info": {
   "codemirror_mode": {
    "name": "ipython",
    "version": 3
   },
   "file_extension": ".py",
   "mimetype": "text/x-python",
   "name": "python",
   "nbconvert_exporter": "python",
   "pygments_lexer": "ipython3",
   "version": "3.10.9"
  }
 },
 "nbformat": 4,
 "nbformat_minor": 5
}
